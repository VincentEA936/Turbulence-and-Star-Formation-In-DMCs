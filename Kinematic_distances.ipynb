{
 "cells": [
  {
   "cell_type": "markdown",
   "id": "9b745e7f",
   "metadata": {},
   "source": [
    "<hr style=\"height:2px; background-color: black;\">\n",
    "<div style=\"text-align: left; display: inline-block; width: 50%;\">Vincent Earl Andrews</div><div style=\"text-align: right; display: inline-block; width: 50%;\">Senior Design</div>                                           \n",
    "                                                  \n",
    "<h3 align=\"center\">Kinematic Distances:Monte Carlo Method</h3>\n",
    "<hr style=\"height:2px; background-color: black;\">\n",
    "\n",
    "The Monte Carlo method adopted was created by Doctor Trey Wenger - https://doi.org/10.48550/arXiv.1802.04203"
   ]
  },
  {
   "cell_type": "markdown",
   "id": "cf9fc789",
   "metadata": {},
   "source": [
    "use CLUMP_center_TEST for l and b"
   ]
  },
  {
   "cell_type": "code",
   "execution_count": null,
   "id": "07a7085d",
   "metadata": {},
   "outputs": [],
   "source": [
    "import avg_vel as V\n",
    "vel_list = V.VLSR\n",
    "vel_err_list = V.VERR\n",
    "\n",
    "from kd import pdf_kd\n",
    "\n",
    "#kinematic distances and their errors\n",
    "near_dist = []\n",
    "near_err = []\n",
    "tangent_dist = []\n",
    "tangent_err = []\n",
    "tangent_vlsr = []\n",
    "#create tuple of centers of each region\n",
    "lon = [43,41,40.5,40,\n",
    "       39.5,39,38.5,38,37.5,37,36.6,36,35.5,\n",
    "       34.5,34,33_5,33,32.5,32,31.5,31,30.5,\n",
    "       30,29.5,29,28.5,28,27.5,27,26.5,26,\n",
    "       25.5,25,24.5,24,23.5,23,22.5,22,21.5,\n",
    "       21,20.5,20,19,18.5,18,17.5,17,16.5,15.5,\n",
    "       15,14.5,14,13.5,13,12.5,12,11.5,11,10.5]\n",
    "lat = [0] * 60\n",
    "cords = list(zip(lon,lat))\n",
    "\n",
    "i = 0\n",
    "for l, b in cords:\n",
    "    print(\"calculating distance...\",i+1)\n",
    "    velo = vel_list[i] # measured LSR velocity, km/s\n",
    "    velo_err = vel_err_list[i] # measured LSR velocity uncertainty, km/s\n",
    "    rotcurve = 'reid14_rotcurve' # the name of the script containing the rotation curve\n",
    "    num_samples = 100 # number of re-samples\n",
    "    dist = pdf_kd.pdf_kd(l,b, velo, velo_err=velo_err, rotcurve=rotcurve, num_samples=num_samples)\n",
    "\n",
    "    nd = dist['near']\n",
    "    ne = (dist['near_err_pos'],dist['near_err_neg'])\n",
    "    tan_d = dist['tangent']\n",
    "    tan_err = (dist['tangent_err_neg'],dist['tangent_err_pos'])\n",
    "    vlsr_tan = dist['vlsr_tangent']\n",
    "\n",
    "    near_dist.append(nd)\n",
    "    near_err.append(ne)\n",
    "    tangent_dist.append(tan_d)\n",
    "    tangent_err.append(tan_err)\n",
    "    tangent_vlsr.append(vlsr_tan)\n",
    "\n",
    "    i +=1\n",
    "for i,j in vel_list, tangent_dist:\n",
    "    print(vel_list(i),tangent_dist(j))\n",
    "#distances in kpc\n",
    "#nan value for 33_5 ?"
   ]
  }
 ],
 "metadata": {
  "kernelspec": {
   "display_name": "Python 3 (ipykernel)",
   "language": "python",
   "name": "python3"
  },
  "language_info": {
   "codemirror_mode": {
    "name": "ipython",
    "version": 3
   },
   "file_extension": ".py",
   "mimetype": "text/x-python",
   "name": "python",
   "nbconvert_exporter": "python",
   "pygments_lexer": "ipython3",
   "version": "3.9.12"
  }
 },
 "nbformat": 4,
 "nbformat_minor": 5
}
