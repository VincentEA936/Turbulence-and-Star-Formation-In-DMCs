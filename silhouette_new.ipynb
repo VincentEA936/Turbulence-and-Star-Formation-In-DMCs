{
 "cells": [
  {
   "cell_type": "markdown",
   "id": "35f19dcd",
   "metadata": {},
   "source": [
    "Silhouette Scores"
   ]
  },
  {
   "cell_type": "code",
   "execution_count": 2,
   "id": "db194b62",
   "metadata": {},
   "outputs": [],
   "source": [
    "import matplotlib.pyplot as plt\n",
    "import numpy as np\n",
    "import pandas as pd\n",
    "from astropy.io import fits #opens fits files\n",
    "from sklearn.cluster import KMeans #clustering algorithim\n",
    "from sklearn.metrics import silhouette_score #calculates silhouette scores\n",
    "\n",
    "\n",
    "import warnings \n",
    "# Settings the warnings to be ignored \n",
    "warnings.filterwarnings('ignore') "
   ]
  },
  {
   "cell_type": "code",
   "execution_count": 3,
   "id": "e6665a54",
   "metadata": {},
   "outputs": [],
   "source": [
    "def open_file(path):\n",
    "    '''\n",
    "    Function:\n",
    "    path: Used for looping through several fits files with a common naming scheme as shown below\n",
    "    \n",
    "    This function opens fits files from the RAMPS data and extracts the data into a\n",
    "    pandas dataframe\n",
    "        - hdr.set was used to fill in headers that were empty and giving error messages \n",
    "        - the 2nd spectral channel is removed, should only be 1 channel for a map\n",
    "        - nan values were dropped \n",
    "        - \n",
    "    '''\n",
    "    print(\"Opening file\", path)\n",
    "    hdul = fits.open('D:/hf_vel/'+path+'_NH3_1-1_hf_width.fits')\n",
    "    hdr = hdul[0].header\n",
    "    hdr.set('BLANCK', 'none') # idk why blanck = -1 originally \n",
    "    hdr.set('NAXIS3',1) #i get an error message when this is gone idk\n",
    "    d = hdul[0].data #3D with 2 channels ?\n",
    "    data = np.swapaxes(d,0,2)\n",
    "    hdul.close()\n",
    "    coords = []\n",
    "    values = []\n",
    "    for (i, j, k), value in np.ndenumerate(data):\n",
    "        coords.append((i, j, k))\n",
    "        values.append(value)\n",
    "    df = pd.DataFrame({'Coordinate': coords, 'Value': values})\n",
    "    df[['X', 'Y', 'Z']] = pd.DataFrame(df['Coordinate'].tolist(), index=df.index)\n",
    "    df = df.drop('Coordinate', axis=1)\n",
    "    DF = df.dropna() #removing nan values \n",
    "    #reduce data frame to points of interest \n",
    "    lowHF = DF[(DF['Value'] <=100)]\n",
    "    lowHF_XY = lowHF.drop(columns=[\"Z\",\"Value\"])\n",
    "    return lowHF_XY, lowHF"
   ]
  },
  {
   "cell_type": "code",
   "execution_count": 4,
   "id": "c8d09cdd",
   "metadata": {},
   "outputs": [
    {
     "name": "stdout",
     "output_type": "stream",
     "text": [
      "Opening file L20\n",
      "Plotting Silhouette Plot for L20\n"
     ]
    },
    {
     "data": {
      "image/png": "[encoded data removed]",
      "text/plain": [
       "<Figure size 432x288 with 1 Axes>"
      ]
     },
     "metadata": {
      "needs_background": "light"
     },
     "output_type": "display_data"
    }
   ],
   "source": [
    "#best_k = [] # best number of clusters for the region\n",
    "#best_sc = [] # best silhouette score\n",
    "\n",
    "paths = ['L47','L43','L41','L40_5','L40','L39_5','L39','L38_5','L38','L37_5',\n",
    "          'L37','L36_5','L36','L35_5','L35','L34_5','L34','L33_5','L33','L32_5'\n",
    "          ,'L32','L31_5','L31','L30_5','L30','L29_5','L29','L28_5','L28','L27_5'\n",
    "          ,'L27','L26_5','L26','L25_5','L25','L24_5','L24','L23_5','L23','L22_5'\n",
    "          ,'L22','L21_5','L21','L20_5','L20','L19','L18_5','L18','L17_5','L17',\n",
    "          'L16_5','L15_5','L15','L14_5','L14','L13_5','L13','L12_5','L12',\n",
    "          'L11_5','L11','L10_5','L10']\n",
    "\n",
    "for L in paths:\n",
    "    # for plotting scores against k clusters\n",
    "    silhouette_scores = []\n",
    "    k_vals = []\n",
    "    \n",
    "    # get target region data\n",
    "    data, dummy = open_file(L)\n",
    "    \n",
    "    if (L == 'L47' or L == 'L43' or L == 'L41' or L == 'L40_5' or L == 'L40' \n",
    "    or L == 'L39_5' or L == 'L34' or L == 'L22_5'):\n",
    "        n_clusters = list(range(2,30))\n",
    "        max_n = len(n_clusters)+1\n",
    "    else:\n",
    "        n_clusters = list(range(2,100)) \n",
    "        max_n = len(n_clusters)+1\n",
    "    \n",
    "    q = 2 # minimum number of clusters\n",
    "    while q <= max_n:\n",
    "        #perform kmeans\n",
    "        km = KMeans(n_clusters=q,init='k-means++', tol = 0.1)\n",
    "        km.fit(data)\n",
    "        labels = km.predict(data)\n",
    "        \n",
    "        #calculate score\n",
    "        sc = silhouette_score(data,labels, metric = 'euclidean')\n",
    "        silhouette_scores.append(sc)\n",
    "        k_vals.append(q)\n",
    "        q = q + 1\n",
    "    \n",
    "    print(\"Plotting Silhouette Plot for\", L)\n",
    "    plt.plot(k_vals, silhouette_scores, color = 'purple')\n",
    "    plt.title(\"Region\"+L+\"\")\n",
    "    plt.xlabel(\"k\")\n",
    "    plt.ylabel(\"Silhouette Score\")\n",
    "    plt.show()\n",
    "    plt.savefig(\"D:/Silhouette_plots/\"+L+\"_silhouette\",dpi = 100)\n",
    "    plt.close()\n",
    "    \n",
    "    '''\n",
    "    max_sc = max(silhouette_scores)\n",
    "    max_i = silhouette_scores.index(max_sc)\n",
    "    best_n = n_clusters[max_i]\n",
    "    best_k.append(best_n) # get best k number of clusters for each region\n",
    "    best_sc.append(max_sc)\n",
    "    print(\"Region\", L, \"has max silhouette score of\", max_sc, \"for\", best_n, \"number of clusters\", '\\n')\n",
    "    '''"
   ]
  }
 ],
 "metadata": {
  "kernelspec": {
   "display_name": "Python 3 (ipykernel)",
   "language": "python",
   "name": "python3"
  },
  "language_info": {
   "codemirror_mode": {
    "name": "ipython",
    "version": 3
   },
   "file_extension": ".py",
   "mimetype": "text/x-python",
   "name": "python",
   "nbconvert_exporter": "python",
   "pygments_lexer": "ipython3",
   "version": "3.9.12"
  }
 },
 "nbformat": 4,
 "nbformat_minor": 5
}
