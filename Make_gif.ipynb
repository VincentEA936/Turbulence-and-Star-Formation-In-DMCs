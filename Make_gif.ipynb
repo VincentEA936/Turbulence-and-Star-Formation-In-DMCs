{
 "cells": [
  {
   "cell_type": "code",
   "execution_count": 2,
   "id": "258ad85b",
   "metadata": {},
   "outputs": [],
   "source": [
    "import glob\n",
    "import contextlib\n",
    "from PIL import Image\n",
    "\n",
    "# filepaths\n",
    "fp_in = \"D:/clustering_plots/*.png\"\n",
    "fp_out = \"D:/clustering.gif\"\n",
    "\n",
    "# use exit stack to automatically close opened images\n",
    "with contextlib.ExitStack() as stack:\n",
    "\n",
    "    # lazily load images\n",
    "    imgs = (stack.enter_context(Image.open(f))\n",
    "            for f in sorted(glob.glob(fp_in)))\n",
    "\n",
    "    # extract  first image from iterator\n",
    "    img = next(imgs)\n",
    "\n",
    "    # https://pillow.readthedocs.io/en/stable/handbook/image-file-formats.html#gif\n",
    "    img.save(fp=fp_out, format='GIF', append_images=imgs,\n",
    "             save_all=True, duration=5000, loop=0)"
   ]
  }
 ],
 "metadata": {
  "kernelspec": {
   "display_name": "Python 3 (ipykernel)",
   "language": "python",
   "name": "python3"
  },
  "language_info": {
   "codemirror_mode": {
    "name": "ipython",
    "version": 3
   },
   "file_extension": ".py",
   "mimetype": "text/x-python",
   "name": "python",
   "nbconvert_exporter": "python",
   "pygments_lexer": "ipython3",
   "version": "3.9.12"
  }
 },
 "nbformat": 4,
 "nbformat_minor": 5
}
